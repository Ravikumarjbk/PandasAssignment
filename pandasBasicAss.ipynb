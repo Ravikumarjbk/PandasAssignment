{
 "cells": [
  {
   "cell_type": "code",
   "execution_count": 1,
   "id": "2012b493-c46b-4dba-91a7-2a857bd0cd6a",
   "metadata": {},
   "outputs": [],
   "source": [
    "import pandas as pd"
   ]
  },
  {
   "cell_type": "markdown",
   "id": "2453fc3b-24f1-4f80-a78d-1732b3e159c0",
   "metadata": {},
   "source": [
    "@Q1>\n",
    "s = [4, 8, 15, 16, 23, 42]"
   ]
  },
  {
   "cell_type": "code",
   "execution_count": 4,
   "id": "5a6657d7-b29f-400a-8b35-1a2b771c76cc",
   "metadata": {},
   "outputs": [],
   "source": [
    "s1 = pd.Series([4, 8, 15, 16, 23, 42])"
   ]
  },
  {
   "cell_type": "code",
   "execution_count": 5,
   "id": "c6bce4a3-62e1-4b7e-ace7-c8db85d0bb49",
   "metadata": {},
   "outputs": [
    {
     "data": {
      "text/plain": [
       "0     4\n",
       "1     8\n",
       "2    15\n",
       "3    16\n",
       "4    23\n",
       "5    42\n",
       "dtype: int64"
      ]
     },
     "execution_count": 5,
     "metadata": {},
     "output_type": "execute_result"
    }
   ],
   "source": [
    "s1"
   ]
  },
  {
   "cell_type": "markdown",
   "id": "533621db-caba-405d-98a8-8b70c7dc2b1a",
   "metadata": {},
   "source": [
    "Q2>"
   ]
  },
  {
   "cell_type": "code",
   "execution_count": 6,
   "id": "ab053171-8f15-4a81-8a96-0a880a53a39c",
   "metadata": {},
   "outputs": [
    {
     "data": {
      "text/plain": [
       "0     1\n",
       "1     2\n",
       "2     3\n",
       "3     4\n",
       "4     5\n",
       "5     6\n",
       "6     7\n",
       "7     8\n",
       "8     9\n",
       "9    10\n",
       "dtype: int64"
      ]
     },
     "execution_count": 6,
     "metadata": {},
     "output_type": "execute_result"
    }
   ],
   "source": [
    "l = [1,2,3,4,5,6,7,8,9,10]\n",
    "s2 = pd.Series(l)\n",
    "s2"
   ]
  },
  {
   "cell_type": "markdown",
   "id": "bde85d84-fef6-4815-9436-f4563de2d309",
   "metadata": {},
   "source": [
    "Q3>"
   ]
  },
  {
   "cell_type": "code",
   "execution_count": 7,
   "id": "0f81ade9-a6cf-4c4d-bf23-d6f5e8d11931",
   "metadata": {},
   "outputs": [],
   "source": [
    "d = {'Name': ['Alice', 'Bob', 'Clair'],\n",
    "    'Áge': [25,30,37],\n",
    "    'Gender': ['Female', 'Male', 'Femal']}"
   ]
  },
  {
   "cell_type": "code",
   "execution_count": 8,
   "id": "c247fbc1-1772-46ff-8965-7abf98d058ee",
   "metadata": {},
   "outputs": [],
   "source": [
    "df = pd.DataFrame(d)"
   ]
  },
  {
   "cell_type": "code",
   "execution_count": 10,
   "id": "e2e130ba-4696-418c-9100-e757fcb2b9c7",
   "metadata": {},
   "outputs": [
    {
     "data": {
      "text/html": [
       "<div>\n",
       "<style scoped>\n",
       "    .dataframe tbody tr th:only-of-type {\n",
       "        vertical-align: middle;\n",
       "    }\n",
       "\n",
       "    .dataframe tbody tr th {\n",
       "        vertical-align: top;\n",
       "    }\n",
       "\n",
       "    .dataframe thead th {\n",
       "        text-align: right;\n",
       "    }\n",
       "</style>\n",
       "<table border=\"1\" class=\"dataframe\">\n",
       "  <thead>\n",
       "    <tr style=\"text-align: right;\">\n",
       "      <th></th>\n",
       "      <th>Name</th>\n",
       "      <th>Áge</th>\n",
       "      <th>Gender</th>\n",
       "    </tr>\n",
       "  </thead>\n",
       "  <tbody>\n",
       "    <tr>\n",
       "      <th>0</th>\n",
       "      <td>Alice</td>\n",
       "      <td>25</td>\n",
       "      <td>Female</td>\n",
       "    </tr>\n",
       "    <tr>\n",
       "      <th>1</th>\n",
       "      <td>Bob</td>\n",
       "      <td>30</td>\n",
       "      <td>Male</td>\n",
       "    </tr>\n",
       "    <tr>\n",
       "      <th>2</th>\n",
       "      <td>Clair</td>\n",
       "      <td>37</td>\n",
       "      <td>Femal</td>\n",
       "    </tr>\n",
       "  </tbody>\n",
       "</table>\n",
       "</div>"
      ],
      "text/plain": [
       "    Name  Áge  Gender\n",
       "0  Alice   25  Female\n",
       "1    Bob   30    Male\n",
       "2  Clair   37   Femal"
      ]
     },
     "execution_count": 10,
     "metadata": {},
     "output_type": "execute_result"
    }
   ],
   "source": [
    "df"
   ]
  },
  {
   "cell_type": "markdown",
   "id": "4e52deaf-9498-4f82-80f9-4ef93d978bfb",
   "metadata": {},
   "source": [
    "Q4> A series is one dimentional array that can hold any data type of (integer, string, float etc0\n",
    " In datafram two dimentional array that is similar to table or spreadsheet"
   ]
  },
  {
   "cell_type": "code",
   "execution_count": 13,
   "id": "4da04c0d-7403-4589-8802-8799791885c9",
   "metadata": {},
   "outputs": [],
   "source": [
    "s4 = pd.Series([4, 8, 15, 16, 23, 42])\n"
   ]
  },
  {
   "cell_type": "code",
   "execution_count": 15,
   "id": "15051f94-d304-47c9-b81a-6512221d6046",
   "metadata": {},
   "outputs": [
    {
     "data": {
      "text/plain": [
       "pandas.core.series.Series"
      ]
     },
     "execution_count": 15,
     "metadata": {},
     "output_type": "execute_result"
    }
   ],
   "source": [
    "type(s4)"
   ]
  },
  {
   "cell_type": "code",
   "execution_count": 16,
   "id": "0afcdbc5-8e48-4bc2-badd-58b4b7537ef6",
   "metadata": {},
   "outputs": [],
   "source": [
    "df = pd.DataFrame(d)"
   ]
  },
  {
   "cell_type": "code",
   "execution_count": 17,
   "id": "2e20bb20-e175-4105-bd27-d90ab275ed02",
   "metadata": {},
   "outputs": [
    {
     "data": {
      "text/html": [
       "<div>\n",
       "<style scoped>\n",
       "    .dataframe tbody tr th:only-of-type {\n",
       "        vertical-align: middle;\n",
       "    }\n",
       "\n",
       "    .dataframe tbody tr th {\n",
       "        vertical-align: top;\n",
       "    }\n",
       "\n",
       "    .dataframe thead th {\n",
       "        text-align: right;\n",
       "    }\n",
       "</style>\n",
       "<table border=\"1\" class=\"dataframe\">\n",
       "  <thead>\n",
       "    <tr style=\"text-align: right;\">\n",
       "      <th></th>\n",
       "      <th>Name</th>\n",
       "      <th>Áge</th>\n",
       "      <th>Gender</th>\n",
       "    </tr>\n",
       "  </thead>\n",
       "  <tbody>\n",
       "    <tr>\n",
       "      <th>0</th>\n",
       "      <td>Alice</td>\n",
       "      <td>25</td>\n",
       "      <td>Female</td>\n",
       "    </tr>\n",
       "    <tr>\n",
       "      <th>1</th>\n",
       "      <td>Bob</td>\n",
       "      <td>30</td>\n",
       "      <td>Male</td>\n",
       "    </tr>\n",
       "    <tr>\n",
       "      <th>2</th>\n",
       "      <td>Clair</td>\n",
       "      <td>37</td>\n",
       "      <td>Femal</td>\n",
       "    </tr>\n",
       "  </tbody>\n",
       "</table>\n",
       "</div>"
      ],
      "text/plain": [
       "    Name  Áge  Gender\n",
       "0  Alice   25  Female\n",
       "1    Bob   30    Male\n",
       "2  Clair   37   Femal"
      ]
     },
     "execution_count": 17,
     "metadata": {},
     "output_type": "execute_result"
    }
   ],
   "source": [
    "df"
   ]
  },
  {
   "cell_type": "markdown",
   "id": "9cce79cf-0a48-4033-a573-31ff82ced6f3",
   "metadata": {},
   "source": [
    "Q5>common function in datafram that use for manipulate the data\n",
    "ex: set_index, reset_index, reindex, groupby, iloc, loc, drop, fillna, read_csv, xlsx, html etc"
   ]
  },
  {
   "cell_type": "code",
   "execution_count": 37,
   "id": "bd9c9199-bc60-49ea-b5a0-3d7cfadad6fa",
   "metadata": {},
   "outputs": [],
   "source": [
    "d1 = {'a': [8,7,6,1],\n",
    "     'b': [2,44,66,8],\n",
    "     'c': ['r', 's', 't', 'u'],\n",
    "     'd': [0,1,0,1]}"
   ]
  },
  {
   "cell_type": "code",
   "execution_count": 38,
   "id": "e27c0995-978f-4b7d-88c3-99a5e906ce3d",
   "metadata": {},
   "outputs": [],
   "source": [
    "df3 = pd.DataFrame(d1)\n"
   ]
  },
  {
   "cell_type": "code",
   "execution_count": 40,
   "id": "d3212f3d-4a38-4220-b26d-b4721b6c3ee1",
   "metadata": {},
   "outputs": [
    {
     "name": "stderr",
     "output_type": "stream",
     "text": [
      "/tmp/ipykernel_91/3212880176.py:1: FutureWarning: The default value of numeric_only in DataFrameGroupBy.mean is deprecated. In a future version, numeric_only will default to False. Either specify numeric_only or select only columns which should be valid for the function.\n",
      "  df3.groupby(['d']).mean()\n"
     ]
    },
    {
     "data": {
      "text/html": [
       "<div>\n",
       "<style scoped>\n",
       "    .dataframe tbody tr th:only-of-type {\n",
       "        vertical-align: middle;\n",
       "    }\n",
       "\n",
       "    .dataframe tbody tr th {\n",
       "        vertical-align: top;\n",
       "    }\n",
       "\n",
       "    .dataframe thead th {\n",
       "        text-align: right;\n",
       "    }\n",
       "</style>\n",
       "<table border=\"1\" class=\"dataframe\">\n",
       "  <thead>\n",
       "    <tr style=\"text-align: right;\">\n",
       "      <th></th>\n",
       "      <th>a</th>\n",
       "      <th>b</th>\n",
       "    </tr>\n",
       "    <tr>\n",
       "      <th>d</th>\n",
       "      <th></th>\n",
       "      <th></th>\n",
       "    </tr>\n",
       "  </thead>\n",
       "  <tbody>\n",
       "    <tr>\n",
       "      <th>0</th>\n",
       "      <td>7.0</td>\n",
       "      <td>34.0</td>\n",
       "    </tr>\n",
       "    <tr>\n",
       "      <th>1</th>\n",
       "      <td>4.0</td>\n",
       "      <td>26.0</td>\n",
       "    </tr>\n",
       "  </tbody>\n",
       "</table>\n",
       "</div>"
      ],
      "text/plain": [
       "     a     b\n",
       "d           \n",
       "0  7.0  34.0\n",
       "1  4.0  26.0"
      ]
     },
     "execution_count": 40,
     "metadata": {},
     "output_type": "execute_result"
    }
   ],
   "source": [
    "df3.groupby(['d']).mean()"
   ]
  },
  {
   "cell_type": "markdown",
   "id": "3e5a1d32-5078-4dfa-ae39-58ed2f8a2fae",
   "metadata": {},
   "source": [
    "Q6>\n",
    "series and dataframe in pandas is mutable while panel is not. bacause in pandas and dataframe we use to add, remove and delete the data while not in pandel"
   ]
  },
  {
   "cell_type": "markdown",
   "id": "5d9aadf6-f647-4f55-a4cf-d968eaa94f47",
   "metadata": {},
   "source": [
    "Q>7"
   ]
  },
  {
   "cell_type": "code",
   "execution_count": 41,
   "id": "2c62840b-169c-4868-b1ad-77e89eaacdc4",
   "metadata": {},
   "outputs": [],
   "source": [
    "name_series = pd.Series(['harry', 'ramson', 'harvard'])\n",
    "age_series = pd.Series([21,31,22])\n",
    "college_series = pd.Series(['colombia', 'havard','manchester'])"
   ]
  },
  {
   "cell_type": "code",
   "execution_count": 42,
   "id": "d4b1e36f-b1f4-4a06-bb89-438398814c4b",
   "metadata": {},
   "outputs": [],
   "source": [
    "df7 = pd.DataFrame({'Name': name_series,\n",
    "                   'Age': age_series,\n",
    "                   'college': college_series})"
   ]
  },
  {
   "cell_type": "code",
   "execution_count": 43,
   "id": "bd288179-e6a2-44f5-8afd-c6e25980a0e6",
   "metadata": {},
   "outputs": [
    {
     "data": {
      "text/html": [
       "<div>\n",
       "<style scoped>\n",
       "    .dataframe tbody tr th:only-of-type {\n",
       "        vertical-align: middle;\n",
       "    }\n",
       "\n",
       "    .dataframe tbody tr th {\n",
       "        vertical-align: top;\n",
       "    }\n",
       "\n",
       "    .dataframe thead th {\n",
       "        text-align: right;\n",
       "    }\n",
       "</style>\n",
       "<table border=\"1\" class=\"dataframe\">\n",
       "  <thead>\n",
       "    <tr style=\"text-align: right;\">\n",
       "      <th></th>\n",
       "      <th>Name</th>\n",
       "      <th>Age</th>\n",
       "      <th>college</th>\n",
       "    </tr>\n",
       "  </thead>\n",
       "  <tbody>\n",
       "    <tr>\n",
       "      <th>0</th>\n",
       "      <td>harry</td>\n",
       "      <td>21</td>\n",
       "      <td>colombia</td>\n",
       "    </tr>\n",
       "    <tr>\n",
       "      <th>1</th>\n",
       "      <td>ramson</td>\n",
       "      <td>31</td>\n",
       "      <td>havard</td>\n",
       "    </tr>\n",
       "    <tr>\n",
       "      <th>2</th>\n",
       "      <td>harvard</td>\n",
       "      <td>22</td>\n",
       "      <td>manchester</td>\n",
       "    </tr>\n",
       "  </tbody>\n",
       "</table>\n",
       "</div>"
      ],
      "text/plain": [
       "      Name  Age     college\n",
       "0    harry   21    colombia\n",
       "1   ramson   31      havard\n",
       "2  harvard   22  manchester"
      ]
     },
     "execution_count": 43,
     "metadata": {},
     "output_type": "execute_result"
    }
   ],
   "source": [
    "df7"
   ]
  },
  {
   "cell_type": "code",
   "execution_count": null,
   "id": "a10ca14d-8f49-4b00-8f5a-ff53a9052a36",
   "metadata": {},
   "outputs": [],
   "source": []
  }
 ],
 "metadata": {
  "kernelspec": {
   "display_name": "Python 3 (ipykernel)",
   "language": "python",
   "name": "python3"
  },
  "language_info": {
   "codemirror_mode": {
    "name": "ipython",
    "version": 3
   },
   "file_extension": ".py",
   "mimetype": "text/x-python",
   "name": "python",
   "nbconvert_exporter": "python",
   "pygments_lexer": "ipython3",
   "version": "3.10.8"
  }
 },
 "nbformat": 4,
 "nbformat_minor": 5
}
